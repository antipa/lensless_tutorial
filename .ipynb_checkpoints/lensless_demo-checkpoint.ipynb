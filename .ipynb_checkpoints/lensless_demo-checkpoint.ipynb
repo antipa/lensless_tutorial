{
 "cells": [
  {
   "cell_type": "code",
   "execution_count": 1,
   "id": "7c45cd5d",
   "metadata": {},
   "outputs": [],
   "source": [
    "import numpy as np\n",
    "from PIL import Image"
   ]
  },
  {
   "cell_type": "code",
   "execution_count": 5,
   "id": "7a915f78",
   "metadata": {},
   "outputs": [
    {
     "name": "stdout",
     "output_type": "stream",
     "text": [
      "(2160, 2560, 3)\n",
      "(540, 640, 3)\n"
     ]
    }
   ],
   "source": [
    "# Load in the caustics\n",
    "caustic_path = \"/Users/nick.antipa/Documents/personal_webpage_html/antipa_files/hsvideo_code_with_data/hsvideo_public_data/PSF/psf_averaged_2018-12-5.tif\"\n",
    "kernel_raw = np.array(Image.open(caustic_path))\n",
    "\n",
    "# Compute problem size based on caustics\n",
    "kernel_size = np.shape(kernel_raw)\n",
    "print(kernel_size)\n",
    "\n",
    "\n",
    "# Load in raw data\n",
    "meas_path = \"/Users/nick.antipa/Documents/PhD/Diffusers/HSVideoData/tennis_zip_ds/tennis_bounce_00043.tif\"\n",
    "meas_raw = np.array(Image.open(meas_path))\n",
    "meas_size = np.shape(meas_raw)\n",
    "print(meas_size)\n",
    "\n",
    "\n",
    "# Crop raw data and caustics\n",
    "\n",
    "# Downsample problem\n",
    "# Resize kernel\n",
    "\n",
    "np.array(Image.fromarray(img).resize((kernel_size[0]//8,kernel_size[1]//8)))\n",
    "\n",
    "\n",
    "#kernel = np.array(Image.fromarray(kernel_crop).resize((img_dims[0]//2,img_dims[1]//2)))\n"
   ]
  },
  {
   "cell_type": "code",
   "execution_count": null,
   "id": "94e46843",
   "metadata": {},
   "outputs": [],
   "source": [
    "# wiener filter"
   ]
  }
 ],
 "metadata": {
  "kernelspec": {
   "display_name": "Python 3",
   "language": "python",
   "name": "python3"
  },
  "language_info": {
   "codemirror_mode": {
    "name": "ipython",
    "version": 3
   },
   "file_extension": ".py",
   "mimetype": "text/x-python",
   "name": "python",
   "nbconvert_exporter": "python",
   "pygments_lexer": "ipython3",
   "version": "3.8.8"
  }
 },
 "nbformat": 4,
 "nbformat_minor": 5
}
